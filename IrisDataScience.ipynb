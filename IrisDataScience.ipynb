{
 "cells": [
  {
   "cell_type": "code",
   "execution_count": 9,
   "id": "053e53f1",
   "metadata": {},
   "outputs": [],
   "source": [
    "import os\n",
    "import tarfile\n",
    "from six.moves import urllib\n",
    "\n",
    "DOWNLOAD_ROOT = \"https://ice.enap.gov.br/files/Posicoes.xlsx\"\n",
    "POSITION_PATH = os.path.join(\"datasets\", \"positions\")\n",
    "POSITION_URL = DOWNLOAD_ROOT + \"datasets/iris/position.tgz\"\n",
    "\n",
    "def fetch_position_data(position_url=POSITION_URL, position_path=POSITION_PATH):\n",
    "    if not os.path.isdir(position_path):\n",
    "        os.makedirs(position_path)\n",
    "    tgz_path = os.path.join(position_path, \"position.tgz\")\n",
    "    urllib.request.urlretrieve(position_url, tgz_path)\n",
    "    position_tgz = tarfile.open(tgz_path)\n",
    "    position_tgz.extractall(path=position_path)\n",
    "    position_tgz.close()"
   ]
  },
  {
   "cell_type": "code",
   "execution_count": 10,
   "id": "a6fec0b6",
   "metadata": {},
   "outputs": [],
   "source": [
    "#fetch_position_data()\n",
    "\n",
    "import pandas as pd\n",
    "import numpy as np\n",
    "\n",
    "def load_position_data(position_path=POSITION_PATH):\n",
    "    xlsx_path = os.path.join(position_path, \"position.xlsx\")\n",
    "    df =   pd.read_excel(xlsx_path, engine = 'openpyxl')\n",
    "    return pd.read_excel(xlsx_path, engine = 'openpyxl',header = 4 , usecols = \"A,B,T,AG,AS,AX,BM,CA,CK,CO\",\n",
    "                         names=['UF', 'Cidade',df.iloc[0][19],df.iloc[0][32],df.iloc[0][44],df.iloc[0][49],df.iloc[0][64],df.iloc[0][78],df.iloc[0][88],df.iloc[2][92]])"
   ]
  },
  {
   "cell_type": "code",
   "execution_count": 11,
   "id": "9f0fcf47",
   "metadata": {
    "scrolled": true
   },
   "outputs": [
    {
     "data": {
      "text/html": [
       "<div>\n",
       "<style scoped>\n",
       "    .dataframe tbody tr th:only-of-type {\n",
       "        vertical-align: middle;\n",
       "    }\n",
       "\n",
       "    .dataframe tbody tr th {\n",
       "        vertical-align: top;\n",
       "    }\n",
       "\n",
       "    .dataframe thead th {\n",
       "        text-align: right;\n",
       "    }\n",
       "</style>\n",
       "<table border=\"1\" class=\"dataframe\">\n",
       "  <thead>\n",
       "    <tr style=\"text-align: right;\">\n",
       "      <th></th>\n",
       "      <th>UF</th>\n",
       "      <th>Cidade</th>\n",
       "      <th>Índice de Ambiente Regulatório</th>\n",
       "      <th>Índice de Infraestrutura</th>\n",
       "      <th>Índice de Mercado</th>\n",
       "      <th>Índice de Acesso a Capital</th>\n",
       "      <th>Índice de Inovação</th>\n",
       "      <th>Índice de Capital Humano</th>\n",
       "      <th>Índice de Cultura</th>\n",
       "      <th>ICE 2020</th>\n",
       "    </tr>\n",
       "  </thead>\n",
       "  <tbody>\n",
       "    <tr>\n",
       "      <th>0</th>\n",
       "      <td>PA</td>\n",
       "      <td>Ananindeua</td>\n",
       "      <td>65</td>\n",
       "      <td>98</td>\n",
       "      <td>55</td>\n",
       "      <td>88</td>\n",
       "      <td>82</td>\n",
       "      <td>88</td>\n",
       "      <td>22</td>\n",
       "      <td>88</td>\n",
       "    </tr>\n",
       "    <tr>\n",
       "      <th>1</th>\n",
       "      <td>GO</td>\n",
       "      <td>Anápolis</td>\n",
       "      <td>75</td>\n",
       "      <td>42</td>\n",
       "      <td>67</td>\n",
       "      <td>62</td>\n",
       "      <td>64</td>\n",
       "      <td>71</td>\n",
       "      <td>31</td>\n",
       "      <td>75</td>\n",
       "    </tr>\n",
       "    <tr>\n",
       "      <th>2</th>\n",
       "      <td>GO</td>\n",
       "      <td>Aparecida de Goiânia</td>\n",
       "      <td>51</td>\n",
       "      <td>56</td>\n",
       "      <td>84</td>\n",
       "      <td>94</td>\n",
       "      <td>54</td>\n",
       "      <td>93</td>\n",
       "      <td>26</td>\n",
       "      <td>86</td>\n",
       "    </tr>\n",
       "    <tr>\n",
       "      <th>3</th>\n",
       "      <td>SE</td>\n",
       "      <td>Aracaju</td>\n",
       "      <td>11</td>\n",
       "      <td>70</td>\n",
       "      <td>81</td>\n",
       "      <td>15</td>\n",
       "      <td>68</td>\n",
       "      <td>44</td>\n",
       "      <td>21</td>\n",
       "      <td>66</td>\n",
       "    </tr>\n",
       "    <tr>\n",
       "      <th>4</th>\n",
       "      <td>SP</td>\n",
       "      <td>Bauru</td>\n",
       "      <td>29</td>\n",
       "      <td>39</td>\n",
       "      <td>47</td>\n",
       "      <td>30</td>\n",
       "      <td>35</td>\n",
       "      <td>18</td>\n",
       "      <td>48</td>\n",
       "      <td>35</td>\n",
       "    </tr>\n",
       "  </tbody>\n",
       "</table>\n",
       "</div>"
      ],
      "text/plain": [
       "   UF                Cidade  Índice de Ambiente Regulatório  \\\n",
       "0  PA            Ananindeua                              65   \n",
       "1  GO              Anápolis                              75   \n",
       "2  GO  Aparecida de Goiânia                              51   \n",
       "3  SE               Aracaju                              11   \n",
       "4  SP                 Bauru                              29   \n",
       "\n",
       "   Índice de Infraestrutura  Índice de Mercado  Índice de Acesso a Capital  \\\n",
       "0                        98                 55                          88   \n",
       "1                        42                 67                          62   \n",
       "2                        56                 84                          94   \n",
       "3                        70                 81                          15   \n",
       "4                        39                 47                          30   \n",
       "\n",
       "   Índice de Inovação  Índice de Capital Humano  Índice de Cultura  ICE 2020  \n",
       "0                  82                        88                 22        88  \n",
       "1                  64                        71                 31        75  \n",
       "2                  54                        93                 26        86  \n",
       "3                  68                        44                 21        66  \n",
       "4                  35                        18                 48        35  "
      ]
     },
     "execution_count": 11,
     "metadata": {},
     "output_type": "execute_result"
    }
   ],
   "source": [
    "cities = load_position_data()\n",
    "cities.head()"
   ]
  },
  {
   "cell_type": "code",
   "execution_count": 12,
   "id": "d877babe",
   "metadata": {},
   "outputs": [],
   "source": [
    "from geopy.geocoders import Nominatim\n",
    "nom = Nominatim(scheme=\"http\", user_agent=\"ICE_2020\")"
   ]
  },
  {
   "cell_type": "code",
   "execution_count": 13,
   "id": "5bc3551f",
   "metadata": {},
   "outputs": [],
   "source": [
    "cities['Coordenadas']=(cities['Cidade']+\",\"+cities['UF']+\", Brazil\").apply(nom.geocode)"
   ]
  },
  {
   "cell_type": "code",
   "execution_count": 14,
   "id": "9d195929",
   "metadata": {},
   "outputs": [],
   "source": [
    "cities['Latitude']=cities['Coordenadas'].apply(lambda x: x.latitude)\n",
    "cities['Longitude']=cities['Coordenadas'].apply(lambda x: x.longitude)"
   ]
  },
  {
   "cell_type": "code",
   "execution_count": 15,
   "id": "3e0f5c63",
   "metadata": {},
   "outputs": [],
   "source": [
    "from shapely.geometry import Point\n",
    "cities['Geometria'] = None\n",
    "\n",
    "for index,row in cities.iterrows():\n",
    "    cities.loc[index, 'Geometria'] = Point(row.Longitude, row.Latitude)\n",
    "\n",
    "cities.drop(['Coordenadas'], inplace=True, axis=1)"
   ]
  },
  {
   "cell_type": "code",
   "execution_count": 16,
   "id": "0e44b1bf",
   "metadata": {},
   "outputs": [],
   "source": [
    "#import geopandas as gpd\n",
    "#gdf_cities = gpd.GeoDataFrame(cities, geometry='Geometria')"
   ]
  },
  {
   "cell_type": "code",
   "execution_count": 17,
   "id": "cfce0d0e",
   "metadata": {},
   "outputs": [],
   "source": [
    "#BRASIL_PATH = os.path.join(\"datasets\", \"positions\")\n",
    "#def load_brasil_data(brasil_path=BRASIL_PATH):\n",
    "#    shp_path = os.path.join(brasil_path, \"UFEBRASIL.shp\")\n",
    "#    return gpd.read_file(shp_path)"
   ]
  },
  {
   "cell_type": "code",
   "execution_count": 18,
   "id": "de3622cc",
   "metadata": {},
   "outputs": [],
   "source": [
    "import folium\n",
    "media_latitude = cities['Latitude'].mean()\n",
    "media_longitude = cities['Longitude'].mean()\n",
    "\n",
    "mapa = folium.Map(locations=[media_latitude, media_longitude], tiles= 'cartodbpositron')\n",
    "\n",
    "def circle_maker(x):\n",
    "    folium.Circle(location=[x[10],x[11]],\n",
    "                 radius=8000,fill=True,\n",
    "                 popup='Cidade: {} \\n Posição no Rank ICE: {}'.format(x[1],x[9])).add_to(mapa)"
   ]
  },
  {
   "cell_type": "code",
   "execution_count": 19,
   "id": "a29da5e9",
   "metadata": {},
   "outputs": [],
   "source": [
    "cities.apply(lambda x: circle_maker(x), axis=1)\n",
    "mapa.save('mapas/indice_ice_2020.html')"
   ]
  },
  {
   "cell_type": "code",
   "execution_count": null,
   "id": "fc42087b",
   "metadata": {},
   "outputs": [],
   "source": []
  }
 ],
 "metadata": {
  "kernelspec": {
   "display_name": "Python 3",
   "language": "python",
   "name": "python3"
  },
  "language_info": {
   "codemirror_mode": {
    "name": "ipython",
    "version": 3
   },
   "file_extension": ".py",
   "mimetype": "text/x-python",
   "name": "python",
   "nbconvert_exporter": "python",
   "pygments_lexer": "ipython3",
   "version": "3.8.5"
  }
 },
 "nbformat": 4,
 "nbformat_minor": 5
}
